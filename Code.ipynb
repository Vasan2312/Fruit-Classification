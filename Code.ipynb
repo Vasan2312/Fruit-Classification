{
 "cells": [
  {
   "cell_type": "code",
   "execution_count": 1,
   "id": "52a74abc",
   "metadata": {
    "_cell_guid": "b1076dfc-b9ad-4769-8c92-a6c4dae69d19",
    "_uuid": "8f2839f25d086af736a60e9eeb907d3b93b6e0e5",
    "execution": {
     "iopub.execute_input": "2023-04-16T12:06:17.567257Z",
     "iopub.status.busy": "2023-04-16T12:06:17.566500Z",
     "iopub.status.idle": "2023-04-16T12:06:17.587163Z",
     "shell.execute_reply": "2023-04-16T12:06:17.585932Z"
    },
    "papermill": {
     "duration": 0.032987,
     "end_time": "2023-04-16T12:06:17.590814",
     "exception": false,
     "start_time": "2023-04-16T12:06:17.557827",
     "status": "completed"
    },
    "tags": []
   },
   "outputs": [
    {
     "name": "stdout",
     "output_type": "stream",
     "text": [
      "/kaggle/input/sml-project/sample_submission.csv\n",
      "/kaggle/input/sml-project/train.csv\n",
      "/kaggle/input/sml-project/test.csv\n"
     ]
    }
   ],
   "source": [
    "# This Python 3 environment comes with many helpful analytics libraries installed\n",
    "# It is defined by the kaggle/python Docker image: https://github.com/kaggle/docker-python\n",
    "# For example, here's several helpful packages to load\n",
    "\n",
    "import numpy as np # linear algebra\n",
    "import pandas as pd # data processing, CSV file I/O (e.g. pd.read_csv)\n",
    "\n",
    "# Input data files are available in the read-only \"../input/\" directory\n",
    "# For example, running this (by clicking run or pressing Shift+Enter) will list all files under the input directory\n",
    "\n",
    "import os\n",
    "for dirname, _, filenames in os.walk('/kaggle/input'):\n",
    "    for filename in filenames:\n",
    "        print(os.path.join(dirname, filename))\n",
    "\n",
    "# You can write up to 20GB to the current directory (/kaggle/working/) that gets preserved as output when you create a version using \"Save & Run All\" \n",
    "# You can also write temporary files to /kaggle/temp/, but they won't be saved outside of the current session"
   ]
  },
  {
   "cell_type": "code",
   "execution_count": 2,
   "id": "72e3a405",
   "metadata": {
    "execution": {
     "iopub.execute_input": "2023-04-16T12:06:17.605406Z",
     "iopub.status.busy": "2023-04-16T12:06:17.604336Z",
     "iopub.status.idle": "2023-04-16T12:06:20.386668Z",
     "shell.execute_reply": "2023-04-16T12:06:20.385159Z"
    },
    "papermill": {
     "duration": 2.793446,
     "end_time": "2023-04-16T12:06:20.389876",
     "exception": false,
     "start_time": "2023-04-16T12:06:17.596430",
     "status": "completed"
    },
    "tags": []
   },
   "outputs": [
    {
     "data": {
      "text/html": [
       "<div>\n",
       "<style scoped>\n",
       "    .dataframe tbody tr th:only-of-type {\n",
       "        vertical-align: middle;\n",
       "    }\n",
       "\n",
       "    .dataframe tbody tr th {\n",
       "        vertical-align: top;\n",
       "    }\n",
       "\n",
       "    .dataframe thead th {\n",
       "        text-align: right;\n",
       "    }\n",
       "</style>\n",
       "<table border=\"1\" class=\"dataframe\">\n",
       "  <thead>\n",
       "    <tr style=\"text-align: right;\">\n",
       "      <th></th>\n",
       "      <th>n1</th>\n",
       "      <th>n2</th>\n",
       "      <th>n3</th>\n",
       "      <th>n4</th>\n",
       "      <th>n5</th>\n",
       "      <th>n6</th>\n",
       "      <th>n8</th>\n",
       "      <th>n11</th>\n",
       "      <th>n12</th>\n",
       "      <th>n13</th>\n",
       "      <th>...</th>\n",
       "      <th>n4085</th>\n",
       "      <th>n4086</th>\n",
       "      <th>n4087</th>\n",
       "      <th>n4088</th>\n",
       "      <th>n4089</th>\n",
       "      <th>n4090</th>\n",
       "      <th>n4091</th>\n",
       "      <th>n4092</th>\n",
       "      <th>n4094</th>\n",
       "      <th>n4095</th>\n",
       "    </tr>\n",
       "  </thead>\n",
       "  <tbody>\n",
       "    <tr>\n",
       "      <th>0</th>\n",
       "      <td>0.000000</td>\n",
       "      <td>1.272801</td>\n",
       "      <td>0.290501</td>\n",
       "      <td>0.581446</td>\n",
       "      <td>0.000000</td>\n",
       "      <td>0.000000</td>\n",
       "      <td>0.000000</td>\n",
       "      <td>1.631630</td>\n",
       "      <td>1.144492</td>\n",
       "      <td>0.000000</td>\n",
       "      <td>...</td>\n",
       "      <td>0.208296</td>\n",
       "      <td>0.162282</td>\n",
       "      <td>1.645888</td>\n",
       "      <td>0.869640</td>\n",
       "      <td>0.302432</td>\n",
       "      <td>0.953719</td>\n",
       "      <td>0.022545</td>\n",
       "      <td>0.498048</td>\n",
       "      <td>0.034988</td>\n",
       "      <td>0.692382</td>\n",
       "    </tr>\n",
       "    <tr>\n",
       "      <th>1</th>\n",
       "      <td>0.000000</td>\n",
       "      <td>1.542096</td>\n",
       "      <td>0.000000</td>\n",
       "      <td>0.896557</td>\n",
       "      <td>0.049978</td>\n",
       "      <td>0.000000</td>\n",
       "      <td>0.117847</td>\n",
       "      <td>1.510689</td>\n",
       "      <td>0.995782</td>\n",
       "      <td>0.000000</td>\n",
       "      <td>...</td>\n",
       "      <td>0.000000</td>\n",
       "      <td>0.273422</td>\n",
       "      <td>1.504220</td>\n",
       "      <td>0.622686</td>\n",
       "      <td>0.588427</td>\n",
       "      <td>0.524415</td>\n",
       "      <td>0.305426</td>\n",
       "      <td>0.386204</td>\n",
       "      <td>0.000000</td>\n",
       "      <td>0.668196</td>\n",
       "    </tr>\n",
       "    <tr>\n",
       "      <th>2</th>\n",
       "      <td>0.000000</td>\n",
       "      <td>1.098595</td>\n",
       "      <td>0.571866</td>\n",
       "      <td>0.500355</td>\n",
       "      <td>0.000000</td>\n",
       "      <td>0.000000</td>\n",
       "      <td>0.493137</td>\n",
       "      <td>2.019214</td>\n",
       "      <td>1.642669</td>\n",
       "      <td>0.381828</td>\n",
       "      <td>...</td>\n",
       "      <td>0.000000</td>\n",
       "      <td>0.000000</td>\n",
       "      <td>1.169341</td>\n",
       "      <td>0.913239</td>\n",
       "      <td>0.064404</td>\n",
       "      <td>0.531270</td>\n",
       "      <td>0.000000</td>\n",
       "      <td>0.471604</td>\n",
       "      <td>0.000000</td>\n",
       "      <td>0.658250</td>\n",
       "    </tr>\n",
       "    <tr>\n",
       "      <th>3</th>\n",
       "      <td>0.101666</td>\n",
       "      <td>1.159194</td>\n",
       "      <td>0.599216</td>\n",
       "      <td>0.893206</td>\n",
       "      <td>0.000000</td>\n",
       "      <td>0.200139</td>\n",
       "      <td>0.645675</td>\n",
       "      <td>1.890070</td>\n",
       "      <td>0.949678</td>\n",
       "      <td>0.000000</td>\n",
       "      <td>...</td>\n",
       "      <td>0.068094</td>\n",
       "      <td>0.585878</td>\n",
       "      <td>0.560686</td>\n",
       "      <td>1.243676</td>\n",
       "      <td>0.432523</td>\n",
       "      <td>0.701881</td>\n",
       "      <td>0.000000</td>\n",
       "      <td>0.589985</td>\n",
       "      <td>0.000000</td>\n",
       "      <td>0.591165</td>\n",
       "    </tr>\n",
       "    <tr>\n",
       "      <th>4</th>\n",
       "      <td>0.000000</td>\n",
       "      <td>1.178603</td>\n",
       "      <td>0.362568</td>\n",
       "      <td>0.577602</td>\n",
       "      <td>0.000000</td>\n",
       "      <td>0.000000</td>\n",
       "      <td>0.079862</td>\n",
       "      <td>1.429589</td>\n",
       "      <td>0.989535</td>\n",
       "      <td>0.000000</td>\n",
       "      <td>...</td>\n",
       "      <td>0.319011</td>\n",
       "      <td>0.250886</td>\n",
       "      <td>1.206032</td>\n",
       "      <td>0.736831</td>\n",
       "      <td>0.345906</td>\n",
       "      <td>0.878515</td>\n",
       "      <td>0.119000</td>\n",
       "      <td>0.261441</td>\n",
       "      <td>0.000000</td>\n",
       "      <td>0.458905</td>\n",
       "    </tr>\n",
       "  </tbody>\n",
       "</table>\n",
       "<p>5 rows × 3292 columns</p>\n",
       "</div>"
      ],
      "text/plain": [
       "         n1        n2        n3        n4        n5        n6        n8  \\\n",
       "0  0.000000  1.272801  0.290501  0.581446  0.000000  0.000000  0.000000   \n",
       "1  0.000000  1.542096  0.000000  0.896557  0.049978  0.000000  0.117847   \n",
       "2  0.000000  1.098595  0.571866  0.500355  0.000000  0.000000  0.493137   \n",
       "3  0.101666  1.159194  0.599216  0.893206  0.000000  0.200139  0.645675   \n",
       "4  0.000000  1.178603  0.362568  0.577602  0.000000  0.000000  0.079862   \n",
       "\n",
       "        n11       n12       n13  ...     n4085     n4086     n4087     n4088  \\\n",
       "0  1.631630  1.144492  0.000000  ...  0.208296  0.162282  1.645888  0.869640   \n",
       "1  1.510689  0.995782  0.000000  ...  0.000000  0.273422  1.504220  0.622686   \n",
       "2  2.019214  1.642669  0.381828  ...  0.000000  0.000000  1.169341  0.913239   \n",
       "3  1.890070  0.949678  0.000000  ...  0.068094  0.585878  0.560686  1.243676   \n",
       "4  1.429589  0.989535  0.000000  ...  0.319011  0.250886  1.206032  0.736831   \n",
       "\n",
       "      n4089     n4090     n4091     n4092     n4094     n4095  \n",
       "0  0.302432  0.953719  0.022545  0.498048  0.034988  0.692382  \n",
       "1  0.588427  0.524415  0.305426  0.386204  0.000000  0.668196  \n",
       "2  0.064404  0.531270  0.000000  0.471604  0.000000  0.658250  \n",
       "3  0.432523  0.701881  0.000000  0.589985  0.000000  0.591165  \n",
       "4  0.345906  0.878515  0.119000  0.261441  0.000000  0.458905  \n",
       "\n",
       "[5 rows x 3292 columns]"
      ]
     },
     "execution_count": 2,
     "metadata": {},
     "output_type": "execute_result"
    }
   ],
   "source": [
    "training_data = pd.read_csv(\"/kaggle/input/sml-project/train.csv\") \n",
    "new_x = training_data\n",
    "training_data.dropna\n",
    "training_data.drop_duplicates\n",
    "training_data = training_data.drop('category', axis=1)\n",
    "training_data=training_data.drop('ID',axis=1)\n",
    "\n",
    "same_values_mask = (training_data == training_data.iloc[0]).all(axis=0)\n",
    "training_data = training_data.loc[:, ~same_values_mask]\n",
    "\n",
    "# zero_mask = (training_data == 0.0).all(axis=0)\n",
    "# training_data = training_data.loc[:, ~zero_mask]\n",
    "\n",
    "nonzero_mask = (training_data != 0).sum(axis=0) < 25\n",
    "training_data = training_data.loc[:, ~nonzero_mask]\n",
    "training_data.head()"
   ]
  },
  {
   "cell_type": "code",
   "execution_count": 3,
   "id": "f544a16a",
   "metadata": {
    "execution": {
     "iopub.execute_input": "2023-04-16T12:06:20.404471Z",
     "iopub.status.busy": "2023-04-16T12:06:20.402921Z",
     "iopub.status.idle": "2023-04-16T12:06:21.293269Z",
     "shell.execute_reply": "2023-04-16T12:06:21.291961Z"
    },
    "papermill": {
     "duration": 0.900701,
     "end_time": "2023-04-16T12:06:21.296282",
     "exception": false,
     "start_time": "2023-04-16T12:06:20.395581",
     "status": "completed"
    },
    "tags": []
   },
   "outputs": [
    {
     "data": {
      "text/html": [
       "<div>\n",
       "<style scoped>\n",
       "    .dataframe tbody tr th:only-of-type {\n",
       "        vertical-align: middle;\n",
       "    }\n",
       "\n",
       "    .dataframe tbody tr th {\n",
       "        vertical-align: top;\n",
       "    }\n",
       "\n",
       "    .dataframe thead th {\n",
       "        text-align: right;\n",
       "    }\n",
       "</style>\n",
       "<table border=\"1\" class=\"dataframe\">\n",
       "  <thead>\n",
       "    <tr style=\"text-align: right;\">\n",
       "      <th></th>\n",
       "      <th>n1</th>\n",
       "      <th>n2</th>\n",
       "      <th>n3</th>\n",
       "      <th>n4</th>\n",
       "      <th>n5</th>\n",
       "      <th>n6</th>\n",
       "      <th>n8</th>\n",
       "      <th>n11</th>\n",
       "      <th>n12</th>\n",
       "      <th>n13</th>\n",
       "      <th>...</th>\n",
       "      <th>n4085</th>\n",
       "      <th>n4086</th>\n",
       "      <th>n4087</th>\n",
       "      <th>n4088</th>\n",
       "      <th>n4089</th>\n",
       "      <th>n4090</th>\n",
       "      <th>n4091</th>\n",
       "      <th>n4092</th>\n",
       "      <th>n4094</th>\n",
       "      <th>n4095</th>\n",
       "    </tr>\n",
       "  </thead>\n",
       "  <tbody>\n",
       "    <tr>\n",
       "      <th>0</th>\n",
       "      <td>0.000000</td>\n",
       "      <td>0.908889</td>\n",
       "      <td>0.251257</td>\n",
       "      <td>0.662262</td>\n",
       "      <td>0.042495</td>\n",
       "      <td>0.000000</td>\n",
       "      <td>0.964784</td>\n",
       "      <td>1.776613</td>\n",
       "      <td>1.100943</td>\n",
       "      <td>0.113406</td>\n",
       "      <td>...</td>\n",
       "      <td>0.000000</td>\n",
       "      <td>0.694072</td>\n",
       "      <td>1.146161</td>\n",
       "      <td>1.483842</td>\n",
       "      <td>0.717836</td>\n",
       "      <td>0.472616</td>\n",
       "      <td>0.000000</td>\n",
       "      <td>0.488022</td>\n",
       "      <td>0.0</td>\n",
       "      <td>0.655670</td>\n",
       "    </tr>\n",
       "    <tr>\n",
       "      <th>1</th>\n",
       "      <td>0.000000</td>\n",
       "      <td>1.191055</td>\n",
       "      <td>0.407350</td>\n",
       "      <td>0.441898</td>\n",
       "      <td>0.000000</td>\n",
       "      <td>0.334858</td>\n",
       "      <td>0.295357</td>\n",
       "      <td>1.693096</td>\n",
       "      <td>0.870584</td>\n",
       "      <td>0.000000</td>\n",
       "      <td>...</td>\n",
       "      <td>0.000000</td>\n",
       "      <td>0.273436</td>\n",
       "      <td>1.466932</td>\n",
       "      <td>0.940850</td>\n",
       "      <td>0.470344</td>\n",
       "      <td>1.032085</td>\n",
       "      <td>0.000000</td>\n",
       "      <td>0.654070</td>\n",
       "      <td>0.0</td>\n",
       "      <td>0.614493</td>\n",
       "    </tr>\n",
       "    <tr>\n",
       "      <th>2</th>\n",
       "      <td>0.261903</td>\n",
       "      <td>0.992782</td>\n",
       "      <td>0.301102</td>\n",
       "      <td>0.636006</td>\n",
       "      <td>0.009558</td>\n",
       "      <td>0.009448</td>\n",
       "      <td>0.974949</td>\n",
       "      <td>1.801262</td>\n",
       "      <td>1.034996</td>\n",
       "      <td>0.601907</td>\n",
       "      <td>...</td>\n",
       "      <td>0.312974</td>\n",
       "      <td>0.000000</td>\n",
       "      <td>0.769983</td>\n",
       "      <td>0.834360</td>\n",
       "      <td>0.369656</td>\n",
       "      <td>1.000858</td>\n",
       "      <td>0.431571</td>\n",
       "      <td>0.361993</td>\n",
       "      <td>0.0</td>\n",
       "      <td>0.392158</td>\n",
       "    </tr>\n",
       "    <tr>\n",
       "      <th>3</th>\n",
       "      <td>0.000000</td>\n",
       "      <td>1.352401</td>\n",
       "      <td>0.346003</td>\n",
       "      <td>0.401412</td>\n",
       "      <td>0.000000</td>\n",
       "      <td>0.000000</td>\n",
       "      <td>0.450667</td>\n",
       "      <td>1.898062</td>\n",
       "      <td>0.879910</td>\n",
       "      <td>0.000000</td>\n",
       "      <td>...</td>\n",
       "      <td>0.000000</td>\n",
       "      <td>0.339935</td>\n",
       "      <td>1.325595</td>\n",
       "      <td>0.981124</td>\n",
       "      <td>0.486731</td>\n",
       "      <td>0.747392</td>\n",
       "      <td>0.000000</td>\n",
       "      <td>0.300671</td>\n",
       "      <td>0.0</td>\n",
       "      <td>0.628365</td>\n",
       "    </tr>\n",
       "    <tr>\n",
       "      <th>4</th>\n",
       "      <td>0.000000</td>\n",
       "      <td>1.114281</td>\n",
       "      <td>0.696140</td>\n",
       "      <td>0.121505</td>\n",
       "      <td>0.000000</td>\n",
       "      <td>0.000000</td>\n",
       "      <td>0.591384</td>\n",
       "      <td>1.673978</td>\n",
       "      <td>1.327186</td>\n",
       "      <td>0.128034</td>\n",
       "      <td>...</td>\n",
       "      <td>0.142536</td>\n",
       "      <td>0.093661</td>\n",
       "      <td>0.875113</td>\n",
       "      <td>0.360689</td>\n",
       "      <td>0.659230</td>\n",
       "      <td>0.546044</td>\n",
       "      <td>0.000000</td>\n",
       "      <td>0.427255</td>\n",
       "      <td>0.0</td>\n",
       "      <td>0.835671</td>\n",
       "    </tr>\n",
       "  </tbody>\n",
       "</table>\n",
       "<p>5 rows × 3292 columns</p>\n",
       "</div>"
      ],
      "text/plain": [
       "         n1        n2        n3        n4        n5        n6        n8  \\\n",
       "0  0.000000  0.908889  0.251257  0.662262  0.042495  0.000000  0.964784   \n",
       "1  0.000000  1.191055  0.407350  0.441898  0.000000  0.334858  0.295357   \n",
       "2  0.261903  0.992782  0.301102  0.636006  0.009558  0.009448  0.974949   \n",
       "3  0.000000  1.352401  0.346003  0.401412  0.000000  0.000000  0.450667   \n",
       "4  0.000000  1.114281  0.696140  0.121505  0.000000  0.000000  0.591384   \n",
       "\n",
       "        n11       n12       n13  ...     n4085     n4086     n4087     n4088  \\\n",
       "0  1.776613  1.100943  0.113406  ...  0.000000  0.694072  1.146161  1.483842   \n",
       "1  1.693096  0.870584  0.000000  ...  0.000000  0.273436  1.466932  0.940850   \n",
       "2  1.801262  1.034996  0.601907  ...  0.312974  0.000000  0.769983  0.834360   \n",
       "3  1.898062  0.879910  0.000000  ...  0.000000  0.339935  1.325595  0.981124   \n",
       "4  1.673978  1.327186  0.128034  ...  0.142536  0.093661  0.875113  0.360689   \n",
       "\n",
       "      n4089     n4090     n4091     n4092  n4094     n4095  \n",
       "0  0.717836  0.472616  0.000000  0.488022    0.0  0.655670  \n",
       "1  0.470344  1.032085  0.000000  0.654070    0.0  0.614493  \n",
       "2  0.369656  1.000858  0.431571  0.361993    0.0  0.392158  \n",
       "3  0.486731  0.747392  0.000000  0.300671    0.0  0.628365  \n",
       "4  0.659230  0.546044  0.000000  0.427255    0.0  0.835671  \n",
       "\n",
       "[5 rows x 3292 columns]"
      ]
     },
     "execution_count": 3,
     "metadata": {},
     "output_type": "execute_result"
    }
   ],
   "source": [
    "testing_data = pd.read_csv(\"/kaggle/input/sml-project/test.csv\")\n",
    "new_y = testing_data\n",
    "testing_data.dropna\n",
    "testing_data.drop_duplicates\n",
    "testing_data=testing_data.drop('ID',axis=1)\n",
    "\n",
    "testing_data = testing_data.loc[:, ~same_values_mask]\n",
    "testing_data = testing_data.loc[:, ~nonzero_mask]\n",
    "\n",
    "testing_data.head()"
   ]
  },
  {
   "cell_type": "code",
   "execution_count": 4,
   "id": "cfed7122",
   "metadata": {
    "execution": {
     "iopub.execute_input": "2023-04-16T12:06:21.310433Z",
     "iopub.status.busy": "2023-04-16T12:06:21.309994Z",
     "iopub.status.idle": "2023-04-16T12:06:22.919837Z",
     "shell.execute_reply": "2023-04-16T12:06:22.917180Z"
    },
    "papermill": {
     "duration": 1.621093,
     "end_time": "2023-04-16T12:06:22.923644",
     "exception": false,
     "start_time": "2023-04-16T12:06:21.302551",
     "status": "completed"
    },
    "tags": []
   },
   "outputs": [],
   "source": [
    "from sklearn.linear_model import LogisticRegression\n",
    "from sklearn.decomposition import PCA\n",
    "from sklearn.preprocessing import StandardScaler\n",
    "from sklearn.discriminant_analysis import LinearDiscriminantAnalysis\n",
    "from sklearn.neighbors import LocalOutlierFactor\n",
    "from sklearn.ensemble import IsolationForest\n",
    "from sklearn.feature_selection import RFE\n",
    "from sklearn.cluster import KMeans\n",
    "\n",
    "import warnings\n",
    "warnings.filterwarnings('ignore')\n",
    "\n",
    "Y_output = new_x[\"category\"]\n",
    "X_modelfitting = training_data\n",
    "X_testing = testing_data"
   ]
  },
  {
   "cell_type": "code",
   "execution_count": 5,
   "id": "ba4b2b60",
   "metadata": {
    "execution": {
     "iopub.execute_input": "2023-04-16T12:06:22.938718Z",
     "iopub.status.busy": "2023-04-16T12:06:22.937607Z",
     "iopub.status.idle": "2023-04-16T12:06:27.682181Z",
     "shell.execute_reply": "2023-04-16T12:06:27.680686Z"
    },
    "papermill": {
     "duration": 4.755676,
     "end_time": "2023-04-16T12:06:27.685934",
     "exception": false,
     "start_time": "2023-04-16T12:06:22.930258",
     "status": "completed"
    },
    "tags": []
   },
   "outputs": [
    {
     "name": "stdout",
     "output_type": "stream",
     "text": [
      "Number of outliers: 23\n"
     ]
    }
   ],
   "source": [
    "isolationtree = IsolationForest()\n",
    "outliers = isolationtree.fit_predict(X_modelfitting)\n",
    "number_outliers = len(outliers[outliers == -1])\n",
    "print(\"Number of outliers:\", number_outliers)\n",
    "mask = outliers != -1\n",
    "X_modelfitting = X_modelfitting[mask]\n",
    "Y_output = Y_output[mask]"
   ]
  },
  {
   "cell_type": "code",
   "execution_count": 6,
   "id": "48e7772f",
   "metadata": {
    "execution": {
     "iopub.execute_input": "2023-04-16T12:06:27.698928Z",
     "iopub.status.busy": "2023-04-16T12:06:27.698451Z",
     "iopub.status.idle": "2023-04-16T12:06:30.508223Z",
     "shell.execute_reply": "2023-04-16T12:06:30.506796Z"
    },
    "papermill": {
     "duration": 2.820381,
     "end_time": "2023-04-16T12:06:30.511818",
     "exception": false,
     "start_time": "2023-04-16T12:06:27.691437",
     "status": "completed"
    },
    "tags": []
   },
   "outputs": [],
   "source": [
    "pca_to_best_components = PCA(n_components=1000)\n",
    "X_modelfitting = pca_to_best_components.fit_transform(X_modelfitting)\n",
    "X_testing = pca_to_best_components.transform(X_testing)"
   ]
  },
  {
   "cell_type": "code",
   "execution_count": 7,
   "id": "24c842df",
   "metadata": {
    "execution": {
     "iopub.execute_input": "2023-04-16T12:06:30.531699Z",
     "iopub.status.busy": "2023-04-16T12:06:30.531135Z",
     "iopub.status.idle": "2023-04-16T12:06:31.165760Z",
     "shell.execute_reply": "2023-04-16T12:06:31.164354Z"
    },
    "papermill": {
     "duration": 0.649435,
     "end_time": "2023-04-16T12:06:31.170138",
     "exception": false,
     "start_time": "2023-04-16T12:06:30.520703",
     "status": "completed"
    },
    "tags": []
   },
   "outputs": [],
   "source": [
    "pca_to_best_components = PCA(n_components=400)\n",
    "X_modelfitting = pca_to_best_components.fit_transform(X_modelfitting)\n",
    "X_testing = pca_to_best_components.transform(X_testing)"
   ]
  },
  {
   "cell_type": "code",
   "execution_count": 8,
   "id": "b2f778ce",
   "metadata": {
    "execution": {
     "iopub.execute_input": "2023-04-16T12:06:31.190395Z",
     "iopub.status.busy": "2023-04-16T12:06:31.189830Z",
     "iopub.status.idle": "2023-04-16T12:07:09.657562Z",
     "shell.execute_reply": "2023-04-16T12:07:09.656123Z"
    },
    "papermill": {
     "duration": 38.482409,
     "end_time": "2023-04-16T12:07:09.661922",
     "exception": false,
     "start_time": "2023-04-16T12:06:31.179513",
     "status": "completed"
    },
    "tags": []
   },
   "outputs": [],
   "source": [
    "estimator_using_rfe = LogisticRegression(max_iter=10000)\n",
    "selector_using_rfe = RFE(estimator_using_rfe, n_features_to_select=379, step=1)\n",
    "selector_using_rfe.fit(X_modelfitting, Y_output)\n",
    "X_modelfitting = X_modelfitting[:,selector_using_rfe.support_]\n",
    "X_testing = X_testing[:,selector_using_rfe.support_]"
   ]
  },
  {
   "cell_type": "code",
   "execution_count": 9,
   "id": "4e4c95cd",
   "metadata": {
    "execution": {
     "iopub.execute_input": "2023-04-16T12:07:09.682663Z",
     "iopub.status.busy": "2023-04-16T12:07:09.682104Z",
     "iopub.status.idle": "2023-04-16T12:07:11.383767Z",
     "shell.execute_reply": "2023-04-16T12:07:11.381520Z"
    },
    "papermill": {
     "duration": 1.717826,
     "end_time": "2023-04-16T12:07:11.388736",
     "exception": false,
     "start_time": "2023-04-16T12:07:09.670910",
     "status": "completed"
    },
    "tags": []
   },
   "outputs": [],
   "source": [
    "for i in range(1):\n",
    "    X_modelfitting_df = pd.DataFrame(data=X_modelfitting)\n",
    "    # Apply KMeans Clustering for grouping similar samples together on X_modelfitting\n",
    "    cluster_model = KMeans(n_clusters=4)\n",
    "    cluster_assignments_train = cluster_model.fit_predict(X_modelfitting)\n",
    "\n",
    "    # Add the cluster assignments as a new column in X_modelfitting\n",
    "    X_modelfitting_df = pd.DataFrame(data=X_modelfitting)\n",
    "    X_modelfitting_df[f'cluster{i}'] = cluster_assignments_train\n",
    "\n",
    "    # Create a new feature based on the cluster assignments\n",
    "    cluster_counts = X_modelfitting_df[f'cluster{i}'].value_counts(normalize=True)\n",
    "    X_modelfitting_df[f'cluster_ratio{i}'] = X_modelfitting_df[f'cluster{i}'].map(cluster_counts)\n",
    "\n",
    "    # Transform X_testing using the cluster model fit on X_modelfitting\n",
    "    X_testing_df = pd.DataFrame(data=X_testing)\n",
    "    cluster_assignments_test = cluster_model.predict(X_testing_df)\n",
    "    X_testing_df[f'cluster{i}'] = cluster_assignments_test\n",
    "    X_testing_df[f'cluster_ratio{i}'] = X_testing_df[f'cluster{i}'].map(cluster_counts)\n",
    "\n",
    "    # Select only the cluster id and cluster ratio columns from train and test sets\n",
    "    X_modelfitting_cluster = X_modelfitting_df[[f'cluster{i}', f'cluster_ratio{i}']].to_numpy()\n",
    "    X_testing_cluster =X_testing_df[[f'cluster{i}', f'cluster_ratio{i}']].to_numpy()"
   ]
  },
  {
   "cell_type": "code",
   "execution_count": null,
   "id": "f1866a81",
   "metadata": {
    "papermill": {
     "duration": 0.009883,
     "end_time": "2023-04-16T12:07:11.409065",
     "exception": false,
     "start_time": "2023-04-16T12:07:11.399182",
     "status": "completed"
    },
    "tags": []
   },
   "outputs": [],
   "source": []
  },
  {
   "cell_type": "code",
   "execution_count": null,
   "id": "52c89eb6",
   "metadata": {
    "papermill": {
     "duration": 0.010858,
     "end_time": "2023-04-16T12:07:11.431123",
     "exception": false,
     "start_time": "2023-04-16T12:07:11.420265",
     "status": "completed"
    },
    "tags": []
   },
   "outputs": [],
   "source": []
  },
  {
   "cell_type": "code",
   "execution_count": 10,
   "id": "336a4d1e",
   "metadata": {
    "execution": {
     "iopub.execute_input": "2023-04-16T12:07:11.451193Z",
     "iopub.status.busy": "2023-04-16T12:07:11.450745Z",
     "iopub.status.idle": "2023-04-16T12:07:11.655987Z",
     "shell.execute_reply": "2023-04-16T12:07:11.654125Z"
    },
    "papermill": {
     "duration": 0.219927,
     "end_time": "2023-04-16T12:07:11.660658",
     "exception": false,
     "start_time": "2023-04-16T12:07:11.440731",
     "status": "completed"
    },
    "tags": []
   },
   "outputs": [],
   "source": [
    "linear_analysis = LinearDiscriminantAnalysis(n_components = 19)\n",
    "X_train_lda = linear_analysis.fit_transform(X_modelfitting, Y_output)\n",
    "X_test_lda = linear_analysis.transform(X_testing)"
   ]
  },
  {
   "cell_type": "code",
   "execution_count": 11,
   "id": "1211747b",
   "metadata": {
    "execution": {
     "iopub.execute_input": "2023-04-16T12:07:11.684476Z",
     "iopub.status.busy": "2023-04-16T12:07:11.682584Z",
     "iopub.status.idle": "2023-04-16T12:07:11.693775Z",
     "shell.execute_reply": "2023-04-16T12:07:11.692357Z"
    },
    "papermill": {
     "duration": 0.02634,
     "end_time": "2023-04-16T12:07:11.697725",
     "exception": false,
     "start_time": "2023-04-16T12:07:11.671385",
     "status": "completed"
    },
    "tags": []
   },
   "outputs": [],
   "source": [
    "# Concatenate X_train_cluster and X_train_final\n",
    "X_train_final = np.concatenate((X_modelfitting_cluster, X_train_lda), axis=1)\n",
    "\n",
    "# Concatenate X_test_cluster and X_test_final\n",
    "X_test_final = np.concatenate((X_testing_cluster, X_test_lda), axis=1)"
   ]
  },
  {
   "cell_type": "code",
   "execution_count": 12,
   "id": "ef9cde4f",
   "metadata": {
    "execution": {
     "iopub.execute_input": "2023-04-16T12:07:11.717896Z",
     "iopub.status.busy": "2023-04-16T12:07:11.717341Z",
     "iopub.status.idle": "2023-04-16T12:07:59.085538Z",
     "shell.execute_reply": "2023-04-16T12:07:59.083884Z"
    },
    "papermill": {
     "duration": 47.389227,
     "end_time": "2023-04-16T12:07:59.096053",
     "exception": false,
     "start_time": "2023-04-16T12:07:11.706826",
     "status": "completed"
    },
    "tags": []
   },
   "outputs": [
    {
     "name": "stdout",
     "output_type": "stream",
     "text": [
      "['Leeche_Raw' 'Orange_Raw' 'Pomengranate_Ripe' 'Strawberry_Raw'\n",
      " 'Orange_Ripe' 'Banana_Ripe' 'Orange_Ripe' 'Apple_Ripe' 'Coconut_Raw'\n",
      " 'Coconut_Ripe' 'Strawberry_Ripe' 'Banana_Ripe' 'Mango_Raw' 'Papaya_Ripe'\n",
      " 'Guava_Ripe' 'Leeche_Ripe' 'Orange_Raw' 'Banana_Raw' 'Mango_Ripe'\n",
      " 'Orange_Raw' 'Guava_Raw' 'Banana_Ripe' 'Orange_Ripe' 'Pomengranate_Raw'\n",
      " 'Orange_Raw' 'Strawberry_Ripe' 'Apple_Raw' 'Orange_Ripe' 'Coconut_Ripe'\n",
      " 'Orange_Ripe' 'Banana_Ripe' 'Apple_Ripe' 'Strawberry_Raw' 'Banana_Raw'\n",
      " 'Coconut_Raw' 'Coconut_Raw' 'Apple_Ripe' 'Orange_Raw' 'Orange_Raw'\n",
      " 'Pomengranate_Ripe' 'Guava_Raw' 'Papaya_Raw' 'Leeche_Raw' 'Papaya_Ripe'\n",
      " 'Leeche_Raw' 'Apple_Ripe' 'Leeche_Raw' 'Apple_Ripe' 'Banana_Ripe'\n",
      " 'Papaya_Ripe' 'Papaya_Raw' 'Mango_Ripe' 'Mango_Raw' 'Mango_Ripe'\n",
      " 'Apple_Ripe' 'Leeche_Ripe' 'Papaya_Ripe' 'Mango_Raw' 'Coconut_Raw'\n",
      " 'Strawberry_Ripe' 'Banana_Ripe' 'Guava_Raw' 'Apple_Raw'\n",
      " 'Pomengranate_Raw' 'Strawberry_Raw' 'Apple_Raw' 'Mango_Raw' 'Guava_Raw'\n",
      " 'Guava_Raw' 'Pomengranate_Raw' 'Apple_Raw' 'Strawberry_Raw' 'Mango_Ripe'\n",
      " 'Papaya_Ripe' 'Coconut_Raw' 'Guava_Ripe' 'Coconut_Ripe' 'Papaya_Ripe'\n",
      " 'Banana_Raw' 'Papaya_Raw' 'Mango_Raw' 'Mango_Raw' 'Apple_Ripe'\n",
      " 'Coconut_Ripe' 'Guava_Raw' 'Banana_Ripe' 'Mango_Raw' 'Papaya_Ripe'\n",
      " 'Banana_Ripe' 'Orange_Raw' 'Pomengranate_Raw' 'Papaya_Ripe'\n",
      " 'Pomengranate_Raw' 'Apple_Ripe' 'Mango_Ripe' 'Apple_Raw' 'Leeche_Raw'\n",
      " 'Orange_Raw' 'Banana_Ripe' 'Pomengranate_Raw' 'Orange_Raw' 'Orange_Ripe'\n",
      " 'Pomengranate_Raw' 'Papaya_Raw' 'Orange_Ripe' 'Apple_Ripe' 'Apple_Raw'\n",
      " 'Mango_Ripe' 'Apple_Ripe' 'Strawberry_Ripe' 'Coconut_Raw'\n",
      " 'Strawberry_Raw' 'Strawberry_Raw' 'Papaya_Ripe' 'Mango_Ripe'\n",
      " 'Papaya_Ripe' 'Strawberry_Raw' 'Coconut_Ripe' 'Pomengranate_Ripe'\n",
      " 'Guava_Raw' 'Apple_Ripe' 'Papaya_Ripe' 'Coconut_Ripe' 'Apple_Raw'\n",
      " 'Orange_Raw' 'Orange_Ripe' 'Orange_Ripe' 'Apple_Ripe' 'Apple_Ripe'\n",
      " 'Apple_Ripe' 'Coconut_Ripe' 'Orange_Ripe' 'Strawberry_Raw' 'Papaya_Raw'\n",
      " 'Strawberry_Raw' 'Banana_Raw' 'Banana_Raw' 'Coconut_Raw' 'Mango_Raw'\n",
      " 'Apple_Ripe' 'Coconut_Raw' 'Mango_Raw' 'Coconut_Raw' 'Orange_Raw'\n",
      " 'Strawberry_Raw' 'Coconut_Raw' 'Pomengranate_Raw' 'Banana_Ripe'\n",
      " 'Pomengranate_Ripe' 'Pomengranate_Raw' 'Mango_Ripe' 'Leeche_Raw'\n",
      " 'Strawberry_Ripe' 'Pomengranate_Ripe' 'Mango_Raw' 'Pomengranate_Raw'\n",
      " 'Strawberry_Ripe' 'Orange_Ripe' 'Orange_Ripe' 'Strawberry_Raw'\n",
      " 'Coconut_Ripe' 'Strawberry_Raw' 'Leeche_Ripe' 'Banana_Ripe' 'Mango_Raw'\n",
      " 'Mango_Ripe' 'Orange_Ripe' 'Apple_Raw' 'Apple_Raw' 'Orange_Raw'\n",
      " 'Banana_Raw' 'Leeche_Ripe' 'Apple_Ripe' 'Banana_Ripe' 'Guava_Ripe'\n",
      " 'Apple_Raw' 'Pomengranate_Ripe' 'Coconut_Raw' 'Pomengranate_Raw'\n",
      " 'Strawberry_Raw' 'Banana_Ripe' 'Coconut_Raw' 'Banana_Raw' 'Papaya_Raw'\n",
      " 'Leeche_Ripe' 'Banana_Ripe' 'Banana_Ripe' 'Leeche_Ripe' 'Mango_Ripe'\n",
      " 'Guava_Raw' 'Guava_Ripe' 'Mango_Ripe' 'Coconut_Raw' 'Apple_Ripe'\n",
      " 'Coconut_Raw' 'Banana_Raw' 'Apple_Ripe' 'Banana_Raw' 'Papaya_Raw'\n",
      " 'Strawberry_Ripe' 'Strawberry_Ripe' 'Apple_Raw' 'Leeche_Ripe'\n",
      " 'Papaya_Ripe' 'Guava_Raw' 'Banana_Raw' 'Leeche_Raw' 'Banana_Ripe'\n",
      " 'Banana_Ripe' 'Leeche_Ripe' 'Strawberry_Ripe' 'Strawberry_Ripe'\n",
      " 'Pomengranate_Ripe' 'Strawberry_Ripe' 'Pomengranate_Ripe' 'Banana_Raw'\n",
      " 'Banana_Raw' 'Apple_Raw' 'Strawberry_Raw' 'Apple_Ripe' 'Mango_Raw'\n",
      " 'Papaya_Ripe' 'Coconut_Ripe' 'Guava_Ripe' 'Mango_Ripe' 'Apple_Ripe'\n",
      " 'Strawberry_Ripe' 'Pomengranate_Raw' 'Strawberry_Ripe' 'Strawberry_Raw'\n",
      " 'Mango_Raw' 'Papaya_Ripe' 'Strawberry_Ripe' 'Papaya_Raw' 'Banana_Raw'\n",
      " 'Papaya_Raw' 'Pomengranate_Raw' 'Mango_Ripe' 'Mango_Ripe' 'Guava_Ripe'\n",
      " 'Orange_Raw' 'Coconut_Ripe' 'Leeche_Ripe' 'Leeche_Raw' 'Mango_Ripe'\n",
      " 'Banana_Ripe' 'Apple_Ripe' 'Banana_Ripe' 'Guava_Raw' 'Papaya_Raw'\n",
      " 'Papaya_Raw' 'Banana_Ripe' 'Leeche_Ripe' 'Apple_Raw' 'Apple_Ripe'\n",
      " 'Apple_Ripe' 'Guava_Ripe' 'Orange_Raw' 'Banana_Raw' 'Papaya_Ripe'\n",
      " 'Coconut_Ripe' 'Leeche_Ripe' 'Orange_Raw' 'Apple_Raw' 'Pomengranate_Raw'\n",
      " 'Mango_Raw' 'Mango_Raw' 'Banana_Ripe' 'Orange_Ripe' 'Coconut_Ripe'\n",
      " 'Papaya_Ripe' 'Apple_Raw' 'Papaya_Raw' 'Mango_Ripe' 'Orange_Raw'\n",
      " 'Coconut_Raw' 'Orange_Ripe' 'Banana_Ripe' 'Strawberry_Ripe'\n",
      " 'Pomengranate_Raw' 'Leeche_Ripe' 'Apple_Ripe' 'Banana_Ripe'\n",
      " 'Strawberry_Ripe' 'Apple_Ripe' 'Apple_Raw' 'Papaya_Ripe' 'Papaya_Ripe'\n",
      " 'Leeche_Ripe' 'Strawberry_Ripe' 'Banana_Raw' 'Apple_Raw'\n",
      " 'Pomengranate_Ripe' 'Papaya_Raw' 'Mango_Raw' 'Guava_Ripe'\n",
      " 'Strawberry_Ripe' 'Strawberry_Ripe' 'Coconut_Raw' 'Apple_Raw'\n",
      " 'Leeche_Ripe' 'Pomengranate_Raw' 'Guava_Ripe' 'Guava_Raw' 'Leeche_Raw'\n",
      " 'Pomengranate_Ripe' 'Pomengranate_Ripe' 'Strawberry_Ripe' 'Banana_Ripe'\n",
      " 'Apple_Ripe' 'Mango_Raw' 'Leeche_Ripe' 'Pomengranate_Raw' 'Guava_Ripe'\n",
      " 'Guava_Ripe' 'Mango_Raw' 'Guava_Ripe' 'Strawberry_Ripe' 'Papaya_Ripe'\n",
      " 'Guava_Ripe' 'Pomengranate_Ripe' 'Papaya_Raw' 'Strawberry_Raw'\n",
      " 'Strawberry_Raw' 'Guava_Raw' 'Strawberry_Raw' 'Pomengranate_Ripe'\n",
      " 'Leeche_Ripe' 'Orange_Ripe' 'Guava_Raw' 'Leeche_Ripe' 'Coconut_Raw'\n",
      " 'Papaya_Raw' 'Pomengranate_Ripe' 'Coconut_Ripe' 'Pomengranate_Ripe'\n",
      " 'Papaya_Ripe' 'Strawberry_Ripe' 'Pomengranate_Raw' 'Leeche_Raw'\n",
      " 'Apple_Raw' 'Mango_Raw' 'Apple_Raw' 'Apple_Raw' 'Papaya_Ripe'\n",
      " 'Banana_Raw' 'Papaya_Raw' 'Banana_Raw' 'Leeche_Raw' 'Pomengranate_Ripe'\n",
      " 'Coconut_Raw' 'Mango_Ripe' 'Pomengranate_Raw' 'Papaya_Ripe' 'Guava_Ripe'\n",
      " 'Strawberry_Ripe' 'Apple_Raw' 'Coconut_Ripe' 'Strawberry_Raw'\n",
      " 'Pomengranate_Ripe' 'Orange_Raw' 'Pomengranate_Raw' 'Leeche_Ripe'\n",
      " 'Apple_Raw' 'Apple_Raw' 'Orange_Raw' 'Pomengranate_Raw' 'Leeche_Ripe'\n",
      " 'Pomengranate_Ripe' 'Strawberry_Ripe' 'Banana_Raw' 'Orange_Raw'\n",
      " 'Guava_Raw' 'Guava_Ripe' 'Coconut_Ripe' 'Papaya_Ripe' 'Pomengranate_Raw'\n",
      " 'Coconut_Ripe' 'Apple_Raw' 'Banana_Ripe' 'Mango_Ripe' 'Mango_Raw'\n",
      " 'Coconut_Raw' 'Guava_Raw' 'Pomengranate_Raw' 'Leeche_Ripe' 'Banana_Raw'\n",
      " 'Orange_Raw' 'Orange_Ripe' 'Banana_Raw' 'Banana_Raw' 'Mango_Ripe'\n",
      " 'Apple_Ripe' 'Guava_Raw' 'Banana_Ripe' 'Leeche_Raw' 'Banana_Raw'\n",
      " 'Papaya_Ripe' 'Pomengranate_Raw' 'Apple_Ripe' 'Banana_Ripe' 'Orange_Ripe'\n",
      " 'Apple_Ripe' 'Leeche_Raw' 'Pomengranate_Ripe' 'Strawberry_Ripe'\n",
      " 'Coconut_Ripe' 'Banana_Ripe' 'Mango_Raw' 'Mango_Raw' 'Orange_Ripe'\n",
      " 'Mango_Ripe' 'Banana_Ripe' 'Orange_Raw' 'Strawberry_Raw']\n"
     ]
    }
   ],
   "source": [
    "from sklearn.ensemble import BaggingClassifier\n",
    "from sklearn.linear_model import LogisticRegression\n",
    "\n",
    "logistic = LogisticRegression(max_iter=10000, C=0.02)\n",
    "\n",
    "# Create a bagging classifier with 10 base estimators (logistic regression models)\n",
    "bagging = BaggingClassifier(base_estimator=logistic, n_estimators=300)\n",
    "\n",
    "# Train the bagging classifier on the training data\n",
    "bagging.fit(X_train_final, Y_output)\n",
    "\n",
    "# Make predictions on the test data using the bagging classifier\n",
    "Y_predicted = bagging.predict(X_test_final)\n",
    "\n",
    "print(Y_predicted)"
   ]
  },
  {
   "cell_type": "code",
   "execution_count": 13,
   "id": "dbc6f000",
   "metadata": {
    "execution": {
     "iopub.execute_input": "2023-04-16T12:07:59.111490Z",
     "iopub.status.busy": "2023-04-16T12:07:59.111044Z",
     "iopub.status.idle": "2023-04-16T12:07:59.126913Z",
     "shell.execute_reply": "2023-04-16T12:07:59.125144Z"
    },
    "papermill": {
     "duration": 0.027546,
     "end_time": "2023-04-16T12:07:59.130490",
     "exception": false,
     "start_time": "2023-04-16T12:07:59.102944",
     "status": "completed"
    },
    "tags": []
   },
   "outputs": [],
   "source": [
    "output = pd.DataFrame({'ID': new_y.ID, 'category': Y_predicted})\n",
    "output.to_csv('submission.csv', index=False)"
   ]
  },
  {
   "cell_type": "code",
   "execution_count": 14,
   "id": "58ba64a4",
   "metadata": {
    "execution": {
     "iopub.execute_input": "2023-04-16T12:07:59.144871Z",
     "iopub.status.busy": "2023-04-16T12:07:59.144475Z",
     "iopub.status.idle": "2023-04-16T12:07:59.153634Z",
     "shell.execute_reply": "2023-04-16T12:07:59.152141Z"
    },
    "papermill": {
     "duration": 0.019703,
     "end_time": "2023-04-16T12:07:59.156458",
     "exception": false,
     "start_time": "2023-04-16T12:07:59.136755",
     "status": "completed"
    },
    "tags": []
   },
   "outputs": [
    {
     "data": {
      "text/html": [
       "<a href='submission.csv' target='_blank'>submission.csv</a><br>"
      ],
      "text/plain": [
       "/kaggle/working/submission.csv"
      ]
     },
     "execution_count": 14,
     "metadata": {},
     "output_type": "execute_result"
    }
   ],
   "source": [
    "from IPython.display import FileLink\n",
    "FileLink(r'submission.csv')"
   ]
  }
 ],
 "metadata": {
  "kernelspec": {
   "display_name": "Python 3",
   "language": "python",
   "name": "python3"
  },
  "language_info": {
   "codemirror_mode": {
    "name": "ipython",
    "version": 3
   },
   "file_extension": ".py",
   "mimetype": "text/x-python",
   "name": "python",
   "nbconvert_exporter": "python",
   "pygments_lexer": "ipython3",
   "version": "3.7.12"
  },
  "papermill": {
   "default_parameters": {},
   "duration": 115.685939,
   "end_time": "2023-04-16T12:08:00.190222",
   "environment_variables": {},
   "exception": null,
   "input_path": "__notebook__.ipynb",
   "output_path": "__notebook__.ipynb",
   "parameters": {},
   "start_time": "2023-04-16T12:06:04.504283",
   "version": "2.4.0"
  }
 },
 "nbformat": 4,
 "nbformat_minor": 5
}
